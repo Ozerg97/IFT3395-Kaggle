{
 "cells": [
  {
   "cell_type": "code",
   "execution_count": 1,
   "metadata": {
    "dotnet_interactive": {
     "language": "csharp"
    },
    "polyglot_notebook": {
     "kernelName": "csharp"
    }
   },
   "outputs": [],
   "source": [
    "import pandas as pd\n",
    "from sklearn.ensemble import RandomForestClassifier\n",
    "from sklearn.preprocessing import StandardScaler\n"
   ]
  },
  {
   "cell_type": "code",
   "execution_count": 2,
   "metadata": {},
   "outputs": [],
   "source": [
    "# Charger les données d'entraînement\n",
    "train_data = pd.read_csv(\"train.csv\")\n",
    "test_data = pd.read_csv(\"test.csv\")\n",
    "# Charger les données de test\n",
    "X_train = train_data.drop(columns= [\"SNo\",\"Label\"], axis = 1)\n",
    "columns = [\"SNo\",\"lat\",\"lon\",\"TMQ\",\"U850\",\"V850\",\"UBOT\",\"VBOT\",\"QREFHT\",\"PS\",\"PSL\",\"T200\",\"T500\",\"PRECT\",\"TS\",\"TREFHT\",\"Z1000\",\"Z200\",\"ZBOT\",\"time\"]\n",
    "Y_train = train_data.drop(columns, axis = 1)\n",
    "X_test = test_data.drop(\"SNo\", axis = 1)\n",
    "\n"
   ]
  },
  {
   "cell_type": "code",
   "execution_count": 3,
   "metadata": {},
   "outputs": [],
   "source": [
    "X_train = X_train.values\n",
    "Y_train = Y_train.values\n",
    "X_test = X_test.values\n",
    "Y_train = Y_train.reshape(1, X_train.shape[0])\n",
    "Y_train = Y_train.reshape(Y_train.shape[1],)\n"
   ]
  },
  {
   "cell_type": "code",
   "execution_count": 4,
   "metadata": {},
   "outputs": [],
   "source": [
    "# Normalisation des données\n",
    "scaler = StandardScaler()\n",
    "X_train = scaler.fit_transform(X_train)\n",
    "X_test = scaler.transform(X_test)\n"
   ]
  },
  {
   "cell_type": "code",
   "execution_count": null,
   "metadata": {},
   "outputs": [],
   "source": [
    "rf_classifier = RandomForestClassifier(n_estimators=500, random_state=21)\n",
    "rf_classifier.fit(X_train, Y_train)\n",
    "y_pred = rf_classifier.predict(X_test)\n",
    "df_predictions = pd.DataFrame({\n",
    "    'SNo': range(1, len(y_pred) + 1),  # Commence à 1 et continue jusqu'à la longueur de y_pred\n",
    "    'Label': y_pred\n",
    "})\n",
    "\n",
    "# Enregistrer les prédictions dans un fichier CSV\n",
    "df_predictions.to_csv('predictions.csv', index=False)"
   ]
  }
 ],
 "metadata": {
  "kernelspec": {
   "display_name": "kaggle",
   "language": "python",
   "name": "python3"
  },
  "language_info": {
   "codemirror_mode": {
    "name": "ipython",
    "version": 3
   },
   "file_extension": ".py",
   "mimetype": "text/x-python",
   "name": "python",
   "nbconvert_exporter": "python",
   "pygments_lexer": "ipython3",
   "version": "3.11.5"
  },
  "polyglot_notebook": {
   "kernelInfo": {
    "defaultKernelName": "csharp",
    "items": [
     {
      "aliases": [],
      "name": "csharp"
     }
    ]
   }
  }
 },
 "nbformat": 4,
 "nbformat_minor": 2
}
