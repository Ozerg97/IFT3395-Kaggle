{
 "cells": [
  {
   "cell_type": "code",
   "execution_count": 96,
   "metadata": {
    "ExecuteTime": {
     "end_time": "2023-11-07T01:05:53.247746600Z",
     "start_time": "2023-11-07T01:05:53.205859100Z"
    }
   },
   "outputs": [],
   "source": [
    "import numpy as np\n",
    "import pandas as pd\n",
    "\n"
   ]
  },
  {
   "cell_type": "code",
   "execution_count": 97,
   "metadata": {
    "ExecuteTime": {
     "end_time": "2023-11-07T01:05:53.247746600Z",
     "start_time": "2023-11-07T01:05:53.227800700Z"
    }
   },
   "outputs": [],
   "source": [
    "df1 = pd.read_csv('best_baseline.csv')\n",
    "df2 = pd.read_csv('sample_submission_logreg.csv')\n",
    "\n"
   ]
  },
  {
   "cell_type": "code",
   "execution_count": 97,
   "outputs": [],
   "source": [],
   "metadata": {
    "collapsed": false,
    "ExecuteTime": {
     "end_time": "2023-11-07T01:05:53.256724100Z",
     "start_time": "2023-11-07T01:05:53.242761800Z"
    }
   }
  },
  {
   "cell_type": "code",
   "execution_count": 98,
   "metadata": {
    "ExecuteTime": {
     "end_time": "2023-11-07T01:05:53.283675500Z",
     "start_time": "2023-11-07T01:05:53.257720400Z"
    }
   },
   "outputs": [],
   "source": [
    "df1 = df1.drop( \"SNo\", axis=1)\n",
    "df2 = df2.drop( \"SNo\", axis=1)\n",
    "array1 = df1.values\n",
    "array2 = df2.values\n",
    "array1 = array1.T[0]\n",
    "array2 = array2.T[0]"
   ]
  },
  {
   "cell_type": "code",
   "execution_count": 99,
   "metadata": {
    "ExecuteTime": {
     "end_time": "2023-11-07T01:05:53.290634Z",
     "start_time": "2023-11-07T01:05:53.274674700Z"
    }
   },
   "outputs": [
    {
     "name": "stdout",
     "output_type": "stream",
     "text": [
      "Shape of X_train :  (10320,)\n",
      "Shape of Y_train :  (10320,)\n"
     ]
    }
   ],
   "source": [
    "print(\"Shape of X_train : \", array1.shape)\n",
    "print(\"Shape of Y_train : \", array2.shape)"
   ]
  },
  {
   "cell_type": "code",
   "execution_count": 100,
   "metadata": {
    "ExecuteTime": {
     "end_time": "2023-11-07T01:05:53.337017200Z",
     "start_time": "2023-11-07T01:05:53.288637500Z"
    }
   },
   "outputs": [
    {
     "name": "stdout",
     "output_type": "stream",
     "text": [
      "Différences élément par élément:\n",
      " 1314\n"
     ]
    }
   ],
   "source": [
    "\n",
    "differences = array1 != array2\n",
    "number_of_differences = np.count_nonzero(differences)\n",
    "print(\"Différences élément par élément:\\n\", number_of_differences)"
   ]
  },
  {
   "cell_type": "code",
   "execution_count": 100,
   "metadata": {
    "ExecuteTime": {
     "end_time": "2023-11-07T01:05:53.338014900Z",
     "start_time": "2023-11-07T01:05:53.306589600Z"
    }
   },
   "outputs": [],
   "source": []
  }
 ],
 "metadata": {
  "kernelspec": {
   "display_name": "kaggle",
   "language": "python",
   "name": "python3"
  },
  "language_info": {
   "codemirror_mode": {
    "name": "ipython",
    "version": 3
   },
   "file_extension": ".py",
   "mimetype": "text/x-python",
   "name": "python",
   "nbconvert_exporter": "python",
   "pygments_lexer": "ipython3",
   "version": "3.11.4"
  }
 },
 "nbformat": 4,
 "nbformat_minor": 2
}
