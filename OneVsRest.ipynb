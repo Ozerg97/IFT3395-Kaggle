{
 "cells": [
  {
   "cell_type": "code",
   "execution_count": 15,
   "metadata": {},
   "outputs": [],
   "source": [
    "import numpy as np\n",
    "import pandas as pd"
   ]
  },
  {
   "cell_type": "code",
   "execution_count": 16,
   "metadata": {},
   "outputs": [],
   "source": [
    "def sigmoid(z):\n",
    "    return 1 / (1 + np.exp(-z))"
   ]
  },
  {
   "cell_type": "code",
   "execution_count": 52,
   "metadata": {},
   "outputs": [],
   "source": [
    "def logistic_regression(X, Y, num_iterations, learning_rate):\n",
    "    \"\"\"\n",
    "    Implémentation simple de la régression logistique avec descente de gradient.\n",
    "    \"\"\"\n",
    "\n",
    "    n = X.shape[0] # nombre de features\n",
    "    m = X.shape[1] # nombre de d'exemples\n",
    "    # Initialiser les poids\n",
    "    weights = np.zeros((n,1))\n",
    "    b=0\n",
    "    \n",
    "    cost_list = []\n",
    "    for i in range(num_iterations):\n",
    "        z = np.dot(weights.T, X) + b\n",
    "        predictions = sigmoid(z)\n",
    "  \n",
    "        # Cost Function\n",
    "        epsilon = 0.0001\n",
    "        cost = -(1/m) * np.sum(Y * np.log(predictions + epsilon) + (1-Y) * np.log(1 - predictions + epsilon))\n",
    "\n",
    "        # Gradient descent\n",
    "        dW = (1/m)*np.dot(predictions-Y, X.T)\n",
    "        dB = (1/m)*np.sum(predictions - Y)\n",
    "        \n",
    "        weights = weights - learning_rate*dW.T\n",
    "        b = b - learning_rate*dB\n",
    "        \n",
    "        # Keeping track of our cost function value\n",
    "        cost_list.append(cost)\n",
    "        \n",
    "        if(i%(num_iterations/10) == 0):\n",
    "            print(\"cost after \", i, \"iteration is : \", cost)\n",
    "\n",
    "    return weights, b, cost_list\n",
    "\n"
   ]
  },
  {
   "cell_type": "code",
   "execution_count": 51,
   "metadata": {},
   "outputs": [],
   "source": [
    "def one_vs_rest_logistic_regression(X_train, Y_train, num_labels, num_iterations, learning_rate):\n",
    "    \"\"\"\n",
    "    Former un modèle de régression logistique OvR pour la classification multi-classes.\n",
    "    \"\"\"\n",
    "    models = []\n",
    "    list_cost_list = []\n",
    "    # Former un modèle pour chaque classe\n",
    "    weights_list = []\n",
    "    b_list = []\n",
    "    for i in range(num_labels):\n",
    "        pour_print = []\n",
    "        # Créer des étiquettes binaires pour la classe actuelle\n",
    "        print(\"Label\", i)\n",
    "        # Vous devez vous assurer que binary_labels est un vecteur ligne.\n",
    "        binary_labels = (Y_train ==i).astype(int)\n",
    "        binary_labels = binary_labels.reshape(1, X_train.shape[1])\n",
    "        # Former un modèle de régression logistique pour la classe actuelle\n",
    "        weights,b, cost_list = logistic_regression(X_train, binary_labels, num_iterations, learning_rate)\n",
    "        weights_list.append(weights.T[0])\n",
    "        b_list.append(b)\n",
    "        list_cost_list.append(cost_list)\n",
    "\n",
    "    return weights_list, b_list, list_cost_list"
   ]
  },
  {
   "cell_type": "code",
   "execution_count": 50,
   "metadata": {},
   "outputs": [],
   "source": [
    "def predict_one_vs_rest(weights_list, b_list, X):\n",
    "    \"\"\"\n",
    "    Prédire des étiquettes pour de nouvelles données en utilisant des modèles OvR.\n",
    "    \"\"\"\n",
    "    \n",
    "    modele0  = np.dot(weights_list[0], X ) + b_list[0]\n",
    "    modele1 = np.dot(weights_list[1], X ) + b_list[1]\n",
    "    modele2 = np.dot(weights_list[2], X ) + b_list[2]\n",
    "    # Calculer les scores pour chaque classe\n",
    "    predicted_labels= []\n",
    "    for i in range(len(modele0)):\n",
    "        comparer = [modele0[i], modele1[i], modele2[i]]\n",
    "        comparer = np.array(comparer)\n",
    "        label = np.argmax(comparer)\n",
    "        predicted_labels.append(label)\n",
    "    \n",
    "\n",
    "    return predicted_labels"
   ]
  },
  {
   "cell_type": "code",
   "execution_count": null,
   "metadata": {},
   "outputs": [],
   "source": [
    "train_data = pd.read_csv(\"train.csv\")\n",
    "test_data = pd.read_csv(\"test.csv\")\n",
    "X_train = train_data.drop(columns= [\"SNo\",\"Label\"], axis = 1)\n",
    "columns = [\"SNo\",\"lat\",\"lon\",\"TMQ\",\"U850\",\"V850\",\"UBOT\",\"VBOT\",\"QREFHT\",\"PS\",\"PSL\",\"T200\",\"T500\",\"PRECT\",\"TS\",\"TREFHT\",\"Z1000\",\"Z200\",\"ZBOT\",\"time\",]\n",
    "Y_train = train_data.drop(columns, axis = 1)\n",
    "X_test = test_data.drop(\"SNo\", axis = 1)\n",
    "X_train = X_train.values\n",
    "Y_train = Y_train.values\n",
    "X_test = X_test.values\n",
    "X_train = X_train.T\n",
    "Y_train = Y_train.reshape(1, X_train.shape[1])\n",
    "X_test = X_test.T"
   ]
  },
  {
   "cell_type": "code",
   "execution_count": null,
   "metadata": {},
   "outputs": [],
   "source": [
    "print(\"Shape of X_train : \", X_train.shape)\n",
    "print(\"Shape of Y_train : \", Y_train.shape)\n",
    "print(\"Shape of X_test : \", X_test.shape)"
   ]
  },
  {
   "cell_type": "code",
   "execution_count": null,
   "metadata": {},
   "outputs": [],
   "source": [
    "# Paramètres du modèle\n",
    "num_labels = 3  # Pour les labels 0, 1, et 2\n",
    "num_iterations = 500  # Doit être déterminé par la validation croisée\n",
    "learning_rate = 0.0000000000001  # Doit être déterminé par la validation croisée\n",
    "\n",
    "# Former le modèle OvR\n",
    "weights_list, b_list, list_cost_list = one_vs_rest_logistic_regression(X_train, Y_train, num_labels, num_iterations, learning_rate)\n",
    "\n",
    "# Faire des prédictions\n",
    "predictions = predict_one_vs_rest(weights_list, b_list, X_test)\n",
    "print(predictions)\n",
    "\n",
    "\n",
    "\n",
    "\n"
   ]
  }
 ],
 "metadata": {
  "kernelspec": {
   "display_name": "kaggle",
   "language": "python",
   "name": "python3"
  },
  "language_info": {
   "codemirror_mode": {
    "name": "ipython",
    "version": 3
   },
   "file_extension": ".py",
   "mimetype": "text/x-python",
   "name": "python",
   "nbconvert_exporter": "python",
   "pygments_lexer": "ipython3",
   "version": "3.11.4"
  }
 },
 "nbformat": 4,
 "nbformat_minor": 2
}
